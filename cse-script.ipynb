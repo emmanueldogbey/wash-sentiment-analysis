{
 "cells": [
  {
   "cell_type": "code",
   "execution_count": 3,
   "id": "0ae905c7",
   "metadata": {},
   "outputs": [],
   "source": [
    "from googleapiclient.discovery import build\n",
    "from bs4 import BeautifulSoup\n",
    "\n",
    "import time, random, math\n",
    "import requests\n",
    "import pandas as pd"
   ]
  },
  {
   "cell_type": "code",
   "execution_count": null,
   "id": "e3a5dd4b",
   "metadata": {},
   "outputs": [],
   "source": [
    "def get_urls():\n",
    "    api_key = input('API Key:')\n",
    "    calls = int(input('Number of calls:'))\n",
    "    search_query = input('Search query:')\n",
    "    cse_id = input('Google CSE ID:')\n",
    "    urls = set()\n",
    "    start_ = 1\n",
    "    \n",
    "    service = build('customsearch', 'v1', developerKey = api_key).cse()\n",
    "    \n",
    "    for i in count(1):\n",
    "        if i > calls:\n",
    "            break\n",
    "            \n",
    "        result = service.list(q=search_query, cx=cse_id, start=start_).execute()\n",
    "        for item in result['items']:\n",
    "            urls.add(item['link'])\n",
    "            \n",
    "        start_ += 10\n",
    "        time.sleep(random.uniform(1,2))\n",
    "        \n",
    "    return urls\n",
    "        "
   ]
  },
  {
   "cell_type": "code",
   "execution_count": null,
   "id": "d9566545",
   "metadata": {},
   "outputs": [],
   "source": [
    "def get_article_text(links):\n",
    "    article_tag, article_class = input('Enter article html tag and class separated by a space:').split()\n",
    "    date_tag, date_class = input('Enter date html tag and class separated by a space:').split()\n",
    "    \n",
    "    directory_name = input('Enter folder name. Folder must be in the same directory as py script:')\n",
    "    \n",
    "    for line in links:\n",
    "        url_text = requests.get(line).text\n",
    "        soup = BeautifulSoup(url_text, 'lxml')\n",
    "        \n",
    "        article_text = soup.find(article_tag, class_ = article_class).text\n",
    "        date_published = soup.find(date_tag, class_ = date_class).text\n",
    "        \n",
    "        \n",
    "        with open(f'./{directory_name}/{date_published}.txt', 'w') as f:\n",
    "            f.write(article_text)\n",
    "            \n",
    "        time.sleep(random.uniform(1,2))"
   ]
  },
  {
   "cell_type": "code",
   "execution_count": 2,
   "id": "6e8403a5-a964-4f1b-bc92-c744ab6ba808",
   "metadata": {},
   "outputs": [
    {
     "name": "stdout",
     "output_type": "stream",
     "text": [
      "Requirement already satisfied: beautifulsoup4 in c:\\users\\cudjoe\\mambaforge\\envs\\semanticanalysis\\lib\\site-packages (4.11.1)\n",
      "Requirement already satisfied: soupsieve>1.2 in c:\\users\\cudjoe\\mambaforge\\envs\\semanticanalysis\\lib\\site-packages (from beautifulsoup4) (2.3.2.post1)\n"
     ]
    }
   ],
   "source": [
    "!pip install beautifulsoup4"
   ]
  }
 ],
 "metadata": {
  "kernelspec": {
   "display_name": "Python 3 (ipykernel)",
   "language": "python",
   "name": "python3"
  },
  "language_info": {
   "codemirror_mode": {
    "name": "ipython",
    "version": 3
   },
   "file_extension": ".py",
   "mimetype": "text/x-python",
   "name": "python",
   "nbconvert_exporter": "python",
   "pygments_lexer": "ipython3",
   "version": "3.11.0"
  }
 },
 "nbformat": 4,
 "nbformat_minor": 5
}
