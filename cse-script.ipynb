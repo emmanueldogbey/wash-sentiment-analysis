{
 "cells": [
  {
   "cell_type": "code",
   "execution_count": null,
   "id": "0ae905c7",
   "metadata": {},
   "outputs": [],
   "source": [
    "from googleapiclient.discovery import build\n",
    "from bs4 import BeautifulSoup\n",
    "from itertools import count\n",
    "from requests.exceptions import HTTPError\n",
    "\n",
    "import configparser\n",
    "import time, random\n",
    "import requests\n",
    "import pandas as pd"
   ]
  },
  {
   "cell_type": "code",
   "execution_count": null,
   "id": "e3a5dd4b",
   "metadata": {},
   "outputs": [],
   "source": [
    "def get_urls(calls, search_query, api_key, cse_id):\n",
    "    ''' Number of calls is linked to expected number of results. Limit is that a function call can only \n",
    "        return a maximum of 100 results and returns 10 results per call. So, if a total of 65 results\n",
    "        are expected, then calls must be equal to 7. \n",
    "    '''\n",
    "    urls = set()\n",
    "    start_ = 1\n",
    "    \n",
    "    service = build('customsearch', 'v1', developerKey = api_key).cse()\n",
    "    \n",
    "    # I switch the default start of itertools.count because I find it easier to start counting from 1.\n",
    "    for i in count(1):\n",
    "        if i > calls:\n",
    "            break\n",
    "        try:    \n",
    "            result = service.list(q=search_query, cx=cse_id, start=start_).execute()\n",
    "            for item in result['items']:\n",
    "                urls.add(item['link'])\n",
    "        except HTTPError:\n",
    "            pass\n",
    "            \n",
    "        start_ += 10\n",
    "        time.sleep(random.uniform(1,2))\n",
    "        \n",
    "    return urls\n",
    "        "
   ]
  },
  {
   "cell_type": "code",
   "execution_count": null,
   "id": "d9566545",
   "metadata": {},
   "outputs": [],
   "source": [
    "def get_article_text(**kwargs):\n",
    "    urls = kwargs['urls']\n",
    "    article_tag = kwargs['article_tag']\n",
    "    article_class = kwargs['article_class']\n",
    "    \n",
    "    article_texts = []\n",
    "    \n",
    "    for url in urls:\n",
    "        url_text = requests.get(url).text\n",
    "        soup = BeautifulSoup(url_text, 'lxml')\n",
    "        \n",
    "        try:\n",
    "            article_text = soup.find(article_tag, class_ = article_class).text\n",
    "        except AttributeError:\n",
    "            pass\n",
    "        \n",
    "        article_texts.append(article_text)\n",
    "            \n",
    "        time.sleep(random.uniform(1,2))\n",
    "        \n",
    "    return article_texts"
   ]
  },
  {
   "cell_type": "code",
   "execution_count": null,
   "id": "67bd8e8e-864b-46c2-98f8-7060f244298b",
   "metadata": {},
   "outputs": [],
   "source": [
    "def save_results(urls, article_texts, site):\n",
    "    data = {'Link': list(urls), 'Link-text': article_texts} \n",
    "    df = pd.DataFrame(data)\n",
    "    df.to_excel(f'{site}_data.xlsx')\n",
    "\n",
    "    return df"
   ]
  },
  {
   "cell_type": "code",
   "execution_count": null,
   "id": "d4099bc6-a6b3-44be-a38b-b6e1c713c689",
   "metadata": {},
   "outputs": [],
   "source": [
    "# Read in access details from config file\n",
    "config = configparser.ConfigParser()\n",
    "config.read(\"config.ini\")\n",
    "\n",
    "# cse api key\n",
    "api_key = config[\"cse\"][\"API_key\"]\n",
    "\n",
    "# cse ids for the 2 news sites\n",
    "three_news_id = config[\"cse\"][\"three_news_id\"]\n",
    "myjoyonline_id = config[\"cse\"][\"myjoyonline_id\"]\n",
    "\n",
    "# search query\n",
    "search_query = \"ghana water company limited after:2020-01-01\"\n",
    "\n",
    "# three news\n",
    "three_news_text_tag = config['cse']['three_news_text_tag']\n",
    "three_news_text_class = config['cse']['three_news_text_class']\n",
    "\n",
    "myjoyonline_text_tag = config['cse']['myjoyonline_text_tag']\n",
    "myjoyonline_text_class = config['cse']['myjoyonline_text_class']"
   ]
  },
  {
   "cell_type": "code",
   "execution_count": null,
   "id": "6e8403a5-a964-4f1b-bc92-c744ab6ba808",
   "metadata": {},
   "outputs": [],
   "source": [
    "# First do a manual google search to determine the total number of returned search results\n",
    "# google cse returns max 100 results so calls argument will be max 10 since each cse call returns 10 results\n",
    "# if the manual google search returns 56 results for example, then calls argument will have to be 6\n",
    "\n"
   ]
  },
  {
   "cell_type": "code",
   "execution_count": null,
   "id": "0a47433a-ff1c-4870-a99e-8c5e95adba5d",
   "metadata": {},
   "outputs": [],
   "source": [
    "# Search from 3news.com\n",
    "\n",
    "links = get_urls(calls=10, search_query=search_query, api_key=api_key, cse_id=three_news_id)\n",
    "\n",
    "article_texts = get_article_text(urls=links, article_tag=three_news_text_tag, article_class=three_news_text_class)\n",
    "\n",
    "save_results(links, article_texts, site=\"three_news\")"
   ]
  },
  {
   "cell_type": "code",
   "execution_count": null,
   "id": "42cc5aa4-19a5-4303-a24b-d42ab8f91346",
   "metadata": {},
   "outputs": [],
   "source": [
    "# Search from 3news.com\n",
    "links = get_urls(calls=10, search_query=search_query, api_key=api_key, cse_id=three_news_id)\n",
    "\n",
    "article_texts = get_article_text(urls=links, article_tag=myjoyonline_text_tag, article_class=myjoyonline_text_class)\n",
    "\n",
    "save_results(links, article_texts, site=\"myjoyonline\")"
   ]
  },
  {
   "cell_type": "code",
   "execution_count": null,
   "id": "4fd09c11-051b-43dd-880a-79ef03adbfb1",
   "metadata": {},
   "outputs": [],
   "source": [
    "# Search from myjoyonline.com\n",
    "links = get_urls(calls=10, search_query=search_query, api_key=api_key, cse_id=myjoyonline_news_id)\n",
    "\n",
    "article_texts = get_article_text(urls=links, article_tag=myjoyonline_text_tag, article_class=myjoyonline_text_class)\n",
    "\n",
    "save_results(links, article_texts, site=\"myjoyonline\")"
   ]
  },
  {
   "cell_type": "code",
   "execution_count": null,
   "id": "b95e3ecc-5bf8-431a-ab16-fc7161bdd46d",
   "metadata": {},
   "outputs": [],
   "source": []
  }
 ],
 "metadata": {
  "kernelspec": {
   "display_name": "Python 3 (ipykernel)",
   "language": "python",
   "name": "python3"
  },
  "language_info": {
   "codemirror_mode": {
    "name": "ipython",
    "version": 3
   },
   "file_extension": ".py",
   "mimetype": "text/x-python",
   "name": "python",
   "nbconvert_exporter": "python",
   "pygments_lexer": "ipython3",
   "version": "3.11.0"
  }
 },
 "nbformat": 4,
 "nbformat_minor": 5
}
