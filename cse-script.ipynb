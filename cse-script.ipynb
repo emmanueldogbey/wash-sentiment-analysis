{
 "cells": [
  {
   "cell_type": "code",
   "execution_count": null,
   "id": "0ae905c7",
   "metadata": {},
   "outputs": [],
   "source": [
    "from googleapiclient.discovery import build\n",
    "from bs4 import BeautifulSoup\n",
    "from itertools import count\n",
    "from requests.exceptions import HTTPError\n",
    "\n",
    "import configparser\n",
    "import time, random\n",
    "import requests\n",
    "import pandas as pd"
   ]
  },
  {
   "cell_type": "code",
   "execution_count": null,
   "id": "e3a5dd4b",
   "metadata": {},
   "outputs": [],
   "source": [
    "def get_urls(calls, search_query, api_key, cse_id):\n",
    "    ''' Number of calls is linked to expected number of results. Limit is that a function call can only \n",
    "        return a maximum of 100 results and returns 10 results per call. So, if a total of 65 results\n",
    "        are expected, then calls must be equal to 7. \n",
    "    '''\n",
    "    urls = set()\n",
    "    start_ = 1\n",
    "    \n",
    "    service = build('customsearch', 'v1', developerKey = api_key).cse()\n",
    "    \n",
    "    # I switch the default start of itertools.count because I find it easier to start counting from 1.\n",
    "    for i in count(1):\n",
    "        if i > calls:\n",
    "            break\n",
    "            \n",
    "        result = service.list(q=search_query, cx=cse_id, start=start_).execute()\n",
    "        for item in result['items']:\n",
    "            urls.add(item['link'])\n",
    "            \n",
    "        start_ += 10\n",
    "        time.sleep(random.uniform(1,2))\n",
    "        \n",
    "    return urls\n",
    "        "
   ]
  },
  {
   "cell_type": "code",
   "execution_count": null,
   "id": "d9566545",
   "metadata": {},
   "outputs": [],
   "source": [
    "def get_article_text(urls):\n",
    "    article_texts = []\n",
    "    dates_published = []\n",
    "    \n",
    "    for url in urls:\n",
    "        url_text = requests.get(url).text\n",
    "        soup = BeautifulSoup(url_text, 'lxml')\n",
    "        \n",
    "        article_text = soup.find(article_tag, class_ = article_class).text\n",
    "        date_published = soup.find(date_tag, class_ = date_class).text\n",
    "        \n",
    "        article_texts.append(article_text)\n",
    "        dates_published.append(date_published)\n",
    "            \n",
    "        time.sleep(random.uniform(1,2))\n",
    "        \n",
    "        "
   ]
  },
  {
   "cell_type": "code",
   "execution_count": null,
   "id": "67bd8e8e-864b-46c2-98f8-7060f244298b",
   "metadata": {},
   "outputs": [],
   "source": [
    "def save_results(urls, article_texts, dates_published):\n",
    "    columns = ['Link', 'Link-text', 'Date-published']\n",
    "    data = {'urls': list(urls), 'article_text': article_texts, 'date_published': dates_published}\n",
    "    df = pd.DataFrame(data)\n",
    "\n",
    "    return df"
   ]
  },
  {
   "cell_type": "code",
   "execution_count": null,
   "id": "d4099bc6-a6b3-44be-a38b-b6e1c713c689",
   "metadata": {},
   "outputs": [],
   "source": [
    "# Read in access details from config file\n",
    "config = configparser.ConfigParser()\n",
    "config.read(\"config.ini\")\n",
    "\n",
    "api_key = config[\"cse\"][\"API_key\"]\n",
    "\n",
    "three_news_id = config[\"cse\"][\"three_news_id\"]\n",
    "myjoyonline_id = config[\"cse\"][\"myjoyonline_id\"]\n",
    "citifmonline_id = config[\"cse\"][\"citifmonline_id\"]\n",
    "\n",
    "three_news_text_tag = config['cse']['three_news_text_tag']\n",
    "three_news_text_class = config['cse']['three_news_text_class']\n",
    "three_news_date_tag = config['cse']['three_news_date_tag']\n",
    "three_news_date_class = config['cse']['three_news_date_class']"
   ]
  },
  {
   "cell_type": "code",
   "execution_count": null,
   "id": "6e8403a5-a964-4f1b-bc92-c744ab6ba808",
   "metadata": {},
   "outputs": [],
   "source": [
    "links = get_urls(calls=70, search_query=\"ghana water company limited\", api_key=api_key, cse_id=three_news_id)"
   ]
  },
  {
   "cell_type": "code",
   "execution_count": null,
   "id": "000b3acf-32f5-40ab-a895-c0e61bb62da8",
   "metadata": {},
   "outputs": [],
   "source": [
    "'https://3news.com/2018/page/759/'"
   ]
  }
 ],
 "metadata": {
  "kernelspec": {
   "display_name": "Python 3 (ipykernel)",
   "language": "python",
   "name": "python3"
  },
  "language_info": {
   "codemirror_mode": {
    "name": "ipython",
    "version": 3
   },
   "file_extension": ".py",
   "mimetype": "text/x-python",
   "name": "python",
   "nbconvert_exporter": "python",
   "pygments_lexer": "ipython3",
   "version": "3.11.0"
  }
 },
 "nbformat": 4,
 "nbformat_minor": 5
}
